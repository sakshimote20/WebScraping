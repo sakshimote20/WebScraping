{
 "cells": [
  {
   "cell_type": "code",
   "execution_count": 149,
   "id": "3b3f10e1-00fc-4fc2-b557-15f7a002ae7f",
   "metadata": {},
   "outputs": [],
   "source": [
    "import pandas as pd\n",
    "from selenium import webdriver\n",
    "from bs4 import BeautifulSoup\n",
    "import time\n",
    "from tqdm import tqdm\n"
   ]
  },
  {
   "cell_type": "code",
   "execution_count": 151,
   "id": "57ff76cb-45a8-438a-b4ed-ef3be2e45aeb",
   "metadata": {},
   "outputs": [],
   "source": [
    "link='https://stockmages.netlify.app'\n",
    "browser=webdriver.Chrome()"
   ]
  },
  {
   "cell_type": "code",
   "execution_count": 153,
   "id": "e9152120-a820-40e2-aaa4-eee9024a47a5",
   "metadata": {},
   "outputs": [],
   "source": [
    "browser.get(link)"
   ]
  },
  {
   "cell_type": "markdown",
   "id": "1a10650d-37be-48fe-bd2f-25cda7a35199",
   "metadata": {},
   "source": [
    "### 1.scrolling to reach the bottom"
   ]
  },
  {
   "cell_type": "code",
   "execution_count": 175,
   "id": "63a197d8-5e1d-40aa-a1d0-c1792545377f",
   "metadata": {},
   "outputs": [
    {
     "name": "stderr",
     "output_type": "stream",
     "text": [
      "100%|██████████| 725/725 [02:34<00:00,  4.70it/s]\n"
     ]
    }
   ],
   "source": [
    "for i in tqdm(range(0,725000,1000)):\n",
    "    browser.execute_script(\"window.scrollTo(0,\" + str(i)+\")\")\n",
    "    time.sleep(.2)\n",
    "\n"
   ]
  },
  {
   "cell_type": "markdown",
   "id": "0c4a5c38-25dc-44af-849f-3f09a85c6c86",
   "metadata": {},
   "source": [
    "### 2.scraping the page source"
   ]
  },
  {
   "cell_type": "code",
   "execution_count": null,
   "id": "6080f781-6de3-4539-93b8-12f3592d7c6c",
   "metadata": {},
   "outputs": [],
   "source": [
    "soup=BeautifulSoup(browser.page_source,'html.parser')"
   ]
  },
  {
   "cell_type": "markdown",
   "id": "f999935d-2602-4a46-ad17-f2324aabc174",
   "metadata": {},
   "source": [
    "### 3.checking the number of images that has to be scraped"
   ]
  },
  {
   "cell_type": "code",
   "execution_count": 180,
   "id": "ca8b680d-6696-46bc-8df8-b4ea94906323",
   "metadata": {},
   "outputs": [
    {
     "data": {
      "text/plain": [
       "9104"
      ]
     },
     "execution_count": 180,
     "metadata": {},
     "output_type": "execute_result"
    }
   ],
   "source": [
    "len(soup.find_all('div',class_='container'))\n",
    "   "
   ]
  },
  {
   "cell_type": "markdown",
   "id": "5ed1796d-2cbf-423a-8ecd-ef2856302a81",
   "metadata": {},
   "source": [
    "### 4.scraping the image details"
   ]
  },
  {
   "cell_type": "code",
   "execution_count": 209,
   "id": "cc6a56f9-b595-4165-ab66-7758f7b4bc3a",
   "metadata": {},
   "outputs": [
    {
     "name": "stderr",
     "output_type": "stream",
     "text": [
      "100%|██████████| 9104/9104 [00:00<00:00, 13636.09it/s]\n"
     ]
    }
   ],
   "source": [
    "data=[]\n",
    "for sp in tqdm(soup.find_all('div',class_='container')):\n",
    "    img_link=sp.find('img', class_='source-img').get('src')\n",
    "    tags=sp.find('span',class_='tag-color').text[7:].strip()\n",
    "    likes=sp.find('div',class_='likes-comments').find_all('span')[0].text.strip()[:-6]\n",
    "    comments=sp.find('div',class_='likes-comments').find_all('span')[1].text.strip()[:-9]\n",
    "    data.append([img_link,tags,likes,comments])\n",
    "    "
   ]
  },
  {
   "cell_type": "markdown",
   "id": "b5649aab-e821-4623-96dc-53a12a14dc48",
   "metadata": {},
   "source": [
    "### 5.saving the data in the dataframe"
   ]
  },
  {
   "cell_type": "code",
   "execution_count": 211,
   "id": "6bceb7f4-3883-43c2-90af-46692ec17704",
   "metadata": {},
   "outputs": [],
   "source": [
    "df=pd.DataFrame(data,columns=('img_link','tags','likes','comments'))"
   ]
  },
  {
   "cell_type": "code",
   "execution_count": 240,
   "id": "5b715eab-56b1-43b4-837e-9419f0cdbcff",
   "metadata": {},
   "outputs": [
    {
     "data": {
      "text/html": [
       "<div>\n",
       "<style scoped>\n",
       "    .dataframe tbody tr th:only-of-type {\n",
       "        vertical-align: middle;\n",
       "    }\n",
       "\n",
       "    .dataframe tbody tr th {\n",
       "        vertical-align: top;\n",
       "    }\n",
       "\n",
       "    .dataframe thead th {\n",
       "        text-align: right;\n",
       "    }\n",
       "</style>\n",
       "<table border=\"1\" class=\"dataframe\">\n",
       "  <thead>\n",
       "    <tr style=\"text-align: right;\">\n",
       "      <th></th>\n",
       "      <th>img_link</th>\n",
       "      <th>tags</th>\n",
       "      <th>likes</th>\n",
       "      <th>comments</th>\n",
       "    </tr>\n",
       "  </thead>\n",
       "  <tbody>\n",
       "    <tr>\n",
       "      <th>0</th>\n",
       "      <td>https://cdn.pixabay.com/photo/2022/03/06/05/30...</td>\n",
       "      <td>Clouds, Sky, Atmosphere, Blue Sky</td>\n",
       "      <td>196</td>\n",
       "      <td>55</td>\n",
       "    </tr>\n",
       "    <tr>\n",
       "      <th>1</th>\n",
       "      <td>https://cdn.pixabay.com/photo/2022/04/07/11/45...</td>\n",
       "      <td>Bird, Ornithology, Hummingbird</td>\n",
       "      <td>76</td>\n",
       "      <td>20</td>\n",
       "    </tr>\n",
       "    <tr>\n",
       "      <th>2</th>\n",
       "      <td>https://cdn.pixabay.com/photo/2022/02/28/15/28...</td>\n",
       "      <td>Sea, Rainbow, Rainfall, Subtropical</td>\n",
       "      <td>282</td>\n",
       "      <td>106</td>\n",
       "    </tr>\n",
       "    <tr>\n",
       "      <th>3</th>\n",
       "      <td>https://cdn.pixabay.com/photo/2022/04/04/02/52...</td>\n",
       "      <td>Cherry Blossoms, Road, Japan, Sakura</td>\n",
       "      <td>42</td>\n",
       "      <td>11</td>\n",
       "    </tr>\n",
       "    <tr>\n",
       "      <th>4</th>\n",
       "      <td>https://cdn.pixabay.com/photo/2022/04/09/18/06...</td>\n",
       "      <td>Cape Marguerite, Flower, Plant</td>\n",
       "      <td>39</td>\n",
       "      <td>15</td>\n",
       "    </tr>\n",
       "  </tbody>\n",
       "</table>\n",
       "</div>"
      ],
      "text/plain": [
       "                                            img_link  \\\n",
       "0  https://cdn.pixabay.com/photo/2022/03/06/05/30...   \n",
       "1  https://cdn.pixabay.com/photo/2022/04/07/11/45...   \n",
       "2  https://cdn.pixabay.com/photo/2022/02/28/15/28...   \n",
       "3  https://cdn.pixabay.com/photo/2022/04/04/02/52...   \n",
       "4  https://cdn.pixabay.com/photo/2022/04/09/18/06...   \n",
       "\n",
       "                                   tags likes comments  \n",
       "0     Clouds, Sky, Atmosphere, Blue Sky   196       55  \n",
       "1        Bird, Ornithology, Hummingbird    76       20  \n",
       "2   Sea, Rainbow, Rainfall, Subtropical   282      106  \n",
       "3  Cherry Blossoms, Road, Japan, Sakura    42       11  \n",
       "4        Cape Marguerite, Flower, Plant    39       15  "
      ]
     },
     "execution_count": 240,
     "metadata": {},
     "output_type": "execute_result"
    }
   ],
   "source": [
    "df.head()"
   ]
  },
  {
   "cell_type": "markdown",
   "id": "fa37cd2e-0ad1-4477-b3ad-1a4799c2ad60",
   "metadata": {},
   "source": [
    "### 6. checking the null values"
   ]
  },
  {
   "cell_type": "code",
   "execution_count": 201,
   "id": "320fbbe4-80ca-4114-a2a4-b23a90fed5bf",
   "metadata": {},
   "outputs": [
    {
     "data": {
      "text/plain": [
       "img_link    0\n",
       "tags        0\n",
       "likes       0\n",
       "comments    0\n",
       "dtype: int64"
      ]
     },
     "execution_count": 201,
     "metadata": {},
     "output_type": "execute_result"
    }
   ],
   "source": [
    "df.isna().sum()"
   ]
  },
  {
   "cell_type": "code",
   "execution_count": 203,
   "id": "872fe1a0-d6d4-480f-80cc-ebcbf8987639",
   "metadata": {},
   "outputs": [
    {
     "data": {
      "text/plain": [
       "count                                                  9104\n",
       "unique                                                 9088\n",
       "top       https://cdn.pixabay.com/photo/2022/03/06/05/30...\n",
       "freq                                                      2\n",
       "Name: img_link, dtype: object"
      ]
     },
     "execution_count": 203,
     "metadata": {},
     "output_type": "execute_result"
    }
   ],
   "source": [
    "df['img_link'].describe()"
   ]
  },
  {
   "cell_type": "markdown",
   "id": "350b1a4f-2c5b-4df3-9835-c113c862e777",
   "metadata": {},
   "source": [
    "### 7.checking the duplicates"
   ]
  },
  {
   "cell_type": "code",
   "execution_count": 207,
   "id": "3fe12daa-ffdc-4cba-88b4-7094c80bb029",
   "metadata": {},
   "outputs": [
    {
     "data": {
      "text/plain": [
       "16"
      ]
     },
     "execution_count": 207,
     "metadata": {},
     "output_type": "execute_result"
    }
   ],
   "source": [
    "df['img_link'].duplicated().sum()"
   ]
  },
  {
   "cell_type": "markdown",
   "id": "0fb018b4-a6e1-4f3a-ae82-2b459ea925ec",
   "metadata": {},
   "source": [
    "### 8. removing duplicates"
   ]
  },
  {
   "cell_type": "code",
   "execution_count": 217,
   "id": "a5e79935-8381-4c78-be10-c4cd29300f5e",
   "metadata": {},
   "outputs": [],
   "source": [
    "df= df.drop_duplicates()"
   ]
  },
  {
   "cell_type": "markdown",
   "id": "5f79760b-0a1c-4e00-9d3d-9142ce3d682c",
   "metadata": {},
   "source": [
    "### 9. saving the dataframe as csv"
   ]
  },
  {
   "cell_type": "code",
   "execution_count": 219,
   "id": "e568a624-ce1d-4ecc-a093-0fcc9018f11d",
   "metadata": {},
   "outputs": [],
   "source": [
    "df.to_csv(\"ImageDataset.csv\",index=False)"
   ]
  },
  {
   "cell_type": "markdown",
   "id": "f3cc2f09-2934-45a5-9a94-2505cfc861d6",
   "metadata": {},
   "source": [
    "### rough work"
   ]
  },
  {
   "cell_type": "code",
   "execution_count": 59,
   "id": "f3d8f29e-a2fb-4071-8040-1bac099d9225",
   "metadata": {},
   "outputs": [],
   "source": [
    "link=soup.find('img', class_='source-img').get('src')"
   ]
  },
  {
   "cell_type": "code",
   "execution_count": 61,
   "id": "e07fa54d-6d56-4236-b1c4-1fd799f21d39",
   "metadata": {},
   "outputs": [
    {
     "data": {
      "text/plain": [
       "'https://cdn.pixabay.com/photo/2022/03/06/05/30/clouds-7050884__480.jpg'"
      ]
     },
     "execution_count": 61,
     "metadata": {},
     "output_type": "execute_result"
    }
   ],
   "source": [
    "link"
   ]
  },
  {
   "cell_type": "code",
   "execution_count": 107,
   "id": "b0020f53-6448-48e1-86a6-5b3af77e9f94",
   "metadata": {},
   "outputs": [],
   "source": [
    "tags=sp.find('span',class_='tag-color').text[7:].strip().split(' ')"
   ]
  },
  {
   "cell_type": "code",
   "execution_count": 109,
   "id": "1e50c5e2-7df8-481e-963c-6862b249c70d",
   "metadata": {},
   "outputs": [
    {
     "data": {
      "text/plain": [
       "['Clouds,', 'Sky,', 'Atmosphere,', 'Blue', 'Sky']"
      ]
     },
     "execution_count": 109,
     "metadata": {},
     "output_type": "execute_result"
    }
   ],
   "source": [
    "tags"
   ]
  },
  {
   "cell_type": "code",
   "execution_count": 125,
   "id": "af37fe8c-a9b0-444c-b9e1-6c85a8592207",
   "metadata": {},
   "outputs": [],
   "source": [
    " likes=sp.find('div',class_='likes-comments').find_all('span')[0].text[:-6]"
   ]
  },
  {
   "cell_type": "code",
   "execution_count": 127,
   "id": "78838341-337a-448d-ad24-dfc96167c127",
   "metadata": {},
   "outputs": [
    {
     "data": {
      "text/plain": [
       "'196'"
      ]
     },
     "execution_count": 127,
     "metadata": {},
     "output_type": "execute_result"
    }
   ],
   "source": [
    "likes"
   ]
  },
  {
   "cell_type": "code",
   "execution_count": 137,
   "id": "391543a2-8d3b-4296-ba34-92b244a7ae23",
   "metadata": {},
   "outputs": [],
   "source": [
    "comments=sp.find('div',class_='likes-comments').find_all('span')[1].text[:-9]"
   ]
  },
  {
   "cell_type": "code",
   "execution_count": 139,
   "id": "2053301e-7bb9-4635-a48d-9cc6f5f87c2a",
   "metadata": {},
   "outputs": [
    {
     "data": {
      "text/plain": [
       "'55 '"
      ]
     },
     "execution_count": 139,
     "metadata": {},
     "output_type": "execute_result"
    }
   ],
   "source": [
    "comments"
   ]
  },
  {
   "cell_type": "code",
   "execution_count": null,
   "id": "5e6993bc-3ef6-4bbe-88c3-32f1153a575a",
   "metadata": {},
   "outputs": [],
   "source": []
  }
 ],
 "metadata": {
  "kernelspec": {
   "display_name": "Python 3 (ipykernel)",
   "language": "python",
   "name": "python3"
  },
  "language_info": {
   "codemirror_mode": {
    "name": "ipython",
    "version": 3
   },
   "file_extension": ".py",
   "mimetype": "text/x-python",
   "name": "python",
   "nbconvert_exporter": "python",
   "pygments_lexer": "ipython3",
   "version": "3.12.4"
  }
 },
 "nbformat": 4,
 "nbformat_minor": 5
}
